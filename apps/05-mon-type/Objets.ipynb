{
 "cells": [
  {
   "cell_type": "markdown",
   "metadata": {},
   "source": [
    "## Programmation Orienté Objet (POO) en Python\n",
    "\n",
    "Le concept d'objet dans les langues de programmation est popularisé par les dialectes de LISP. Il a été introduit aux dialectes de C avec le C++. \n",
    "Ensuite, l'arrivé de Java avait transformé l'industrie, surtout les entreprises et les corporations, vers une adoption proliférant d'une manière de programmation qu'on appelle maintenat programmation orienté objet.\n",
    "\n",
    "Dans le coeur de programmation orienté objet, il y a le concept d'encapsulation des comportements par type des données. On combine, donc, un type des données avec des fonctions qui font des traitement sur un type. Voici un exemple simple:"
   ]
  },
  {
   "cell_type": "code",
   "execution_count": 2,
   "metadata": {},
   "outputs": [
    {
     "name": "stdout",
     "output_type": "stream",
     "text": [
      "ma valeur\n"
     ]
    }
   ],
   "source": [
    "class MonType:\n",
    "    def __init__(self):\n",
    "        self.mon_attr = \"ma valeur\"\n",
    "    \n",
    "    def imprimerValeur(self):\n",
    "        print(self.mon_attr)\n",
    "        \n",
    "monInstance = MonType()\n",
    "monInstance.imprimerValeur()"
   ]
  },
  {
   "cell_type": "markdown",
   "metadata": {},
   "source": [
    "Voici ce qui se passe dans chaque ligne:\n",
    "\n",
    "- 1. On declare le nom de type, ici c'est `MonType`. Il débute la définition de la class.  \n",
    "- 2. On declare la fonction qui sera appelé lors d'instantion. \n",
    "  L'argument `self` est une convention, il aura pu être `this`, `foo`, etc.\n",
    "- 3. On declare l'attribut `mon_attr` auquel on a affecté la valeur `ma valeur`\n",
    "- 5. On declare la fonction `imprimerValeur`. Son argument `self` comme le self, d'auparavant, est une référence à l'instance de l'objet.\n",
    "- 6. On imprime la valeur associée à `mon_attr` declarée lors d'instantion, c'est à dire sous la fonction `__init__`\n",
    "- 8. On affecte l'instance de `MonType` crée par `MonType()` au variable `monInstance`\n",
    "- 9. On appelle la fonction `imprimerValeur` qui est définit lors qu'on a déclaré la class "
   ]
  },
  {
   "cell_type": "markdown",
   "metadata": {},
   "source": [
    "### Objet et son Instance\n",
    "\n",
    "Nombreuses fois, on a soulevé le concept d'`instance`, et `instantion`. L'idée est simple. D'abord voyons ce qui se passe au niveau syntaxique:\n",
    "\n",
    "```python\n",
    "\n",
    "class MonType:\n",
    "    def __init__(self):\n",
    "        self.mon_attr = \"ma valeur\"\n",
    "    \n",
    "    def imprimerValeur(self):\n",
    "        print(self.mon_attr)\n",
    "\n",
    "```\n",
    "Le `self` regroupe les fonctions qui sont relatives à l'instance. \n",
    "La fonction `__init__` est appelé lors d'instantion de l'objet/class. \n",
    "Dans certains langues, on appelle cela le constructeur. \n",
    "L'instantion nous permet de rendre certains comportements définis en tant que fonction utilisables. \n",
    "Dans l'objet `MonType`, l'instantion nous permet d'utiliser la fonction `imprimerValeur`. \n",
    "Avant l'instantion, on ne peut pas utiliser cette fonction. \n",
    "\n",
    "On peut penser l'instantion comme une réalisation. \n",
    "\n",
    "Le bloc relatif au `class` nous donne le plan de l'objet. \n",
    "Il nous donne un plan détaillé qui nous montre à la fois les capacités de l'objet, et à la fois les membres de l'objet qui rendent ces capacités possibles.\n",
    "\n",
    "Or, le plan d'une voiture, on peut le voir, mais on ne peut pas le conduire. \n",
    "Pour qu'on puisse utiliser les capacités qu'on vient de déclarer, il faut faire la voiture.\n",
    "\n",
    "L'instantion, c'est `faire` la voiture, c'est-à-dire, le processus par lequel on rend les capacités et les membres définis accessibles lors d'exécution de programme.\n",
    "\n",
    "Voici un exemple, un peu plus parlant:"
   ]
  },
  {
   "cell_type": "code",
   "execution_count": 3,
   "metadata": {},
   "outputs": [],
   "source": [
    "class Main:\n",
    "    def __init__(self, cote: str):\n",
    "        if cote.lower() not in [\"gauche\", \"droite\"]:\n",
    "            mess = \"Une main est soit dans le gauche soit dans le droit\"\n",
    "            mess += \", mais vous disez qu'elle soit au \" + cote\n",
    "            raise ValueError(\n",
    "                mess\n",
    "            )\n",
    "        self.cote = cote\n",
    "        \n",
    "    def tient(self, obj: str):\n",
    "        return \"Ma main \" + self.cote + \" tient \" + obj\n",
    "    \n",
    "    def jette(self, obj: str):\n",
    "        return \"Ma main \" + self.cote + \" jette \" + obj"
   ]
  },
  {
   "cell_type": "markdown",
   "metadata": {},
   "source": [
    "Ici on a défini un objet `Main`, qui doit être instantié avec l'argument côté. \n",
    "\n",
    "La valeur de cet argument doit être soit `gauche`, soit `droite`, parce qu'une main peut être soit dans le côté gauche soit droit d'une personne. \n",
    "\n",
    "Une fois que on a affecté la valeur du `cote` à son attribut lors d'instantion, on peut ensuite utiliser les méthodes `tient` et `jette`. \n",
    "\n",
    "On ne peut pas les utiliser avant, parce qu'ils dépendent sur la valeur qu'on affecte à l'attribut `cote` lors d'instantion.\n",
    "\n",
    "Voici la démonstration d'usage de l'objet:"
   ]
  },
  {
   "cell_type": "code",
   "execution_count": 4,
   "metadata": {},
   "outputs": [],
   "source": [
    "# On instancie Main\n",
    "uneMain = Main(cote=\"droite\")"
   ]
  },
  {
   "cell_type": "code",
   "execution_count": 5,
   "metadata": {},
   "outputs": [
    {
     "data": {
      "text/plain": [
       "'Ma main droite tient une crêpe'"
      ]
     },
     "execution_count": 5,
     "metadata": {},
     "output_type": "execute_result"
    }
   ],
   "source": [
    "# On tient une crepe\n",
    "uneMain.tient(\"une crêpe\")"
   ]
  },
  {
   "cell_type": "code",
   "execution_count": 6,
   "metadata": {},
   "outputs": [
    {
     "data": {
      "text/plain": [
       "'Ma main droite jette une balle'"
      ]
     },
     "execution_count": 6,
     "metadata": {},
     "output_type": "execute_result"
    }
   ],
   "source": [
    "# On jette une balle\n",
    "uneMain.jette(\"une balle\")"
   ]
  },
  {
   "cell_type": "code",
   "execution_count": 7,
   "metadata": {},
   "outputs": [],
   "source": [
    "# On instancie un autre Main\n",
    "uneAutreMain = Main(cote=\"gauche\")"
   ]
  },
  {
   "cell_type": "code",
   "execution_count": 8,
   "metadata": {},
   "outputs": [
    {
     "data": {
      "text/plain": [
       "'Ma main gauche tient le chapeau'"
      ]
     },
     "execution_count": 8,
     "metadata": {},
     "output_type": "execute_result"
    }
   ],
   "source": [
    "# On tient le chapeau\n",
    "uneAutreMain.tient(\"le chapeau\")"
   ]
  },
  {
   "cell_type": "code",
   "execution_count": 9,
   "metadata": {},
   "outputs": [
    {
     "data": {
      "text/plain": [
       "'Ma main gauche jette le chapeau'"
      ]
     },
     "execution_count": 9,
     "metadata": {},
     "output_type": "execute_result"
    }
   ],
   "source": [
    "# On jette le chapeau\n",
    "uneAutreMain.jette(\"le chapeau\")"
   ]
  },
  {
   "cell_type": "markdown",
   "metadata": {},
   "source": [
    "### Héritage\n",
    "\n",
    "Le concept d'héritage est développé pour faciliter le partage des capacités et des membres pour des objets qui sont similaires. \n",
    "\n",
    "Voici une démonstration très simple de cette idée. "
   ]
  },
  {
   "cell_type": "code",
   "execution_count": 10,
   "metadata": {},
   "outputs": [],
   "source": [
    "# Objet parent\n",
    "class Vehicule:\n",
    "    def __init__(self, nb_roue: int, nb_siege: int):\n",
    "        self.nb_roue = nb_roue\n",
    "        self.nb_siege = nb_siege\n",
    "        \n",
    "    def a_combien_de_roue(self):\n",
    "        message = self.__class__.__name__ + \" a \" + str(self.nb_roue) \n",
    "        return message + \" roues\"\n",
    "    \n",
    "    def a_combien_de_siege(self):\n",
    "        message = self.__class__.__name__ + \" a \" + str(self.nb_siege)\n",
    "        return message + \" sieges\""
   ]
  },
  {
   "cell_type": "code",
   "execution_count": 36,
   "metadata": {},
   "outputs": [],
   "source": [
    "# Objets enfant\n",
    "class Velo(Vehicule):\n",
    "    def __init__(self, estqElectrique: bool):\n",
    "        super().__init__(nb_roue=2, nb_siege=1)\n",
    "        self.estqElectrique = estqElectrique\n",
    "        \n",
    "    def examiner_le_type_de_velo(self):\n",
    "        ouinon = \"Oui\" if self.estqElectrique else \"Non\"\n",
    "        message = \"Est-ce que le vélo est un vélo électrique? \" \n",
    "        return message + ouinon\n",
    "    \n",
    "class Voiture(Vehicule):\n",
    "    def __init__(self, typeCarburant: str):\n",
    "        super().__init__(nb_roue=4, nb_siege=5)\n",
    "        if typeCarburant.lower() not in [\"hybride\", \"benzine\", \"électrique\"]:\n",
    "            raise ValueError(\n",
    "                \"Type carburant: \" \n",
    "                + typeCarburant \n",
    "                + \". Il faut qu'il soit hybride, benzine, électrique\"\n",
    "            )\n",
    "        self.carburant = typeCarburant\n",
    "        \n",
    "    def examiner_carburant(self):\n",
    "        message = \"La voiture utilise \" + self.carburant + \" comme carburant\"\n",
    "        return message\n",
    "    \n",
    "class Camion(Vehicule):\n",
    "    def __init__(self, poids: int, unite: str):\n",
    "        super().__init__(nb_roue=8, nb_siege=3)\n",
    "        self.charge = poids\n",
    "        self.unite = unite\n",
    "        \n",
    "    def voir_la_charge(self):\n",
    "        message = \"Le camion a \" + str(self.charge) + \" \"\n",
    "        message += str(self.unite) + \" de charge.\"\n",
    "        return message        "
   ]
  },
  {
   "cell_type": "code",
   "execution_count": 37,
   "metadata": {},
   "outputs": [
    {
     "name": "stdout",
     "output_type": "stream",
     "text": [
      "Vehicule a 465 roues\n",
      "Vehicule a 1325 sieges\n"
     ]
    }
   ],
   "source": [
    "# Voyons leurs usages\n",
    "monVehicule = Vehicule(nb_roue=465, nb_siege=1325)\n",
    "nbroue = monVehicule.a_combien_de_roue()\n",
    "nbsiege = monVehicule.a_combien_de_siege()\n",
    "\n",
    "print(nbroue)\n",
    "print(nbsiege)"
   ]
  },
  {
   "cell_type": "code",
   "execution_count": 38,
   "metadata": {},
   "outputs": [
    {
     "name": "stdout",
     "output_type": "stream",
     "text": [
      "Velo a 2 roues\n",
      "Velo a 1 sieges\n",
      "Est-ce que le vélo est un vélo électrique? Oui\n"
     ]
    }
   ],
   "source": [
    "monVelo = Velo(estqElectrique=True)\n",
    "nbroue = monVelo.a_combien_de_roue()\n",
    "nbsiege = monVelo.a_combien_de_siege()\n",
    "elec = monVelo.examiner_le_type_de_velo()\n",
    "\n",
    "print(nbroue)\n",
    "print(nbsiege)\n",
    "print(elec)"
   ]
  },
  {
   "cell_type": "code",
   "execution_count": 39,
   "metadata": {},
   "outputs": [
    {
     "name": "stdout",
     "output_type": "stream",
     "text": [
      "Voiture a 4 roues\n",
      "Voiture a 5 sieges\n",
      "La voiture utilise benzine comme carburant\n"
     ]
    }
   ],
   "source": [
    "maVoiture = Voiture(typeCarburant=\"benzine\")\n",
    "nbroue = maVoiture.a_combien_de_roue()\n",
    "nbsiege = maVoiture.a_combien_de_siege()\n",
    "carb = maVoiture.examiner_carburant()\n",
    "\n",
    "print(nbroue)\n",
    "print(nbsiege)\n",
    "print(carb)"
   ]
  },
  {
   "cell_type": "code",
   "execution_count": 40,
   "metadata": {},
   "outputs": [
    {
     "name": "stdout",
     "output_type": "stream",
     "text": [
      "Camion a 8 roues\n",
      "Camion a 3 sieges\n",
      "Le camion a 400 kg de charge.\n"
     ]
    }
   ],
   "source": [
    "maCamion = Camion(poids=400, unite=\"kg\")\n",
    "nbroue = maCamion.a_combien_de_roue()\n",
    "nbsiege = maCamion.a_combien_de_siege()\n",
    "charge = maCamion.voir_la_charge()\n",
    "\n",
    "print(nbroue)\n",
    "print(nbsiege)\n",
    "print(charge)"
   ]
  },
  {
   "cell_type": "markdown",
   "metadata": {},
   "source": [
    "## Méthodes de Class et Méthodes Statiques\n",
    "\n",
    "En déhors des méthodes liés à l'instance, python nous donne des moyens pour lier des fonctions directement à la définition de la class. \n",
    "Cela est utile pour définir des membres constant et des capacités qui s'occupent avec ces membres.\n",
    "\n",
    "Voici la class/objet `Main` avec une méthode de class:"
   ]
  },
  {
   "cell_type": "code",
   "execution_count": 1,
   "metadata": {},
   "outputs": [],
   "source": [
    "class Main:\n",
    "    NB_DOIGTS = 5\n",
    "    def __init__(self, cote: str):\n",
    "        if cote.lower() not in [\"gauche\", \"droite\"]:\n",
    "            mess = \"Une main est soit dans le gauche soit dans le droit\"\n",
    "            mess += \", mais vous disez qu'elle soit au \" + cote\n",
    "            raise ValueError(\n",
    "                mess\n",
    "            )\n",
    "        self.cote = cote\n",
    "        \n",
    "    @classmethod\n",
    "    def a_doigts(cls):\n",
    "        return \"Ma main a \" + str(cls.NB_DOIGTS) + \" doigts\"\n",
    "        \n",
    "    def tient(self, obj: str):\n",
    "        return \"Ma main \" + self.cote + \" tient \" + obj\n",
    "    \n",
    "    def jette(self, obj: str):\n",
    "        return \"Ma main \" + self.cote + \" jette \" + obj"
   ]
  },
  {
   "cell_type": "code",
   "execution_count": 7,
   "metadata": {},
   "outputs": [
    {
     "name": "stdout",
     "output_type": "stream",
     "text": [
      "pas instancié:  Ma main a 5 doigts\n",
      "instancié:  Ma main a 5 doigts\n"
     ]
    }
   ],
   "source": [
    "# Voyons l'usage de méthode de class\n",
    "print(\"pas instancié: \", Main.a_doigts())\n",
    "# on peut utiliser la même fonction après l'instantion aussi.\n",
    "maMain = Main(\"gauche\")\n",
    "print(\"instancié: \", maMain.a_doigts())"
   ]
  },
  {
   "cell_type": "markdown",
   "metadata": {},
   "source": [
    "Notez bien qu'on appelle la fonction `a_doigts` avant l'instantion de `Main`."
   ]
  },
  {
   "cell_type": "markdown",
   "metadata": {},
   "source": [
    "Les méthodes statiques sont simplement des fonctions qui dépendent à aucun variable lié à l'objet. \n",
    "Souvent on les utilise lier des fonctions sur des bases sémantique, c'est-à-dire, même si la fonction n'utilise aucun variable de l'objet, ça fait du sens que l'objet a une telle fonction.\n",
    "\n",
    "Voici un exemple toujours avec la class `Main`:"
   ]
  },
  {
   "cell_type": "code",
   "execution_count": 3,
   "metadata": {},
   "outputs": [],
   "source": [
    "class Main:\n",
    "    NB_DOIGTS = 5\n",
    "    def __init__(self, cote: str):\n",
    "        if cote.lower() not in [\"gauche\", \"droite\"]:\n",
    "            mess = \"Une main est soit dans le gauche soit dans le droit\"\n",
    "            mess += \", mais vous disez qu'elle soit au \" + cote\n",
    "            raise ValueError(\n",
    "                mess\n",
    "            )\n",
    "        self.cote = cote\n",
    "        \n",
    "    @classmethod\n",
    "    def a_doigts(cls):\n",
    "        return \"Ma main a \" + str(cls.NB_DOIGTS) + \" doigts\"\n",
    "    \n",
    "    @staticmethod\n",
    "    def estqPortable(unObjet):\n",
    "        \"\"\"\n",
    "        On assume que l'argument `unObjet` a un membre taille avec\n",
    "        le type `int`\n",
    "        \"\"\"\n",
    "        if hasattr(unObjet, \"poid_gramme\") is False:\n",
    "            raise AttributeError(\n",
    "                \"l'argument n'implemente pas l'attribut poid_gramme\"\n",
    "            )\n",
    "        poid = unObjet.poid_gramme\n",
    "        return poid <= 500\n",
    "        \n",
    "    def tient(self, obj: str):\n",
    "        return \"Ma main \" + self.cote + \" tient \" + obj\n",
    "    \n",
    "    def jette(self, obj: str):\n",
    "        return \"Ma main \" + self.cote + \" jette \" + obj"
   ]
  },
  {
   "cell_type": "code",
   "execution_count": 4,
   "metadata": {},
   "outputs": [
    {
     "data": {
      "text/plain": [
       "True"
      ]
     },
     "execution_count": 4,
     "metadata": {},
     "output_type": "execute_result"
    }
   ],
   "source": [
    "# Voyons l'usage\n",
    "class MonObjetPortable:\n",
    "    def __init__(self):\n",
    "        self.poid_gramme = 235\n",
    "        \n",
    "monObjet = MonObjetPortable()\n",
    "Main.estqPortable(monObjet)"
   ]
  },
  {
   "cell_type": "markdown",
   "metadata": {},
   "source": [
    "Notez que de nouveau on n'a pas instancié la class. Comme auparavant la fonction marche quand on instancie l'objet aussi."
   ]
  },
  {
   "cell_type": "code",
   "execution_count": null,
   "metadata": {},
   "outputs": [],
   "source": []
  }
 ],
 "metadata": {
  "kernelspec": {
   "display_name": "Python 3",
   "language": "python",
   "name": "python3"
  },
  "language_info": {
   "codemirror_mode": {
    "name": "ipython",
    "version": 3
   },
   "file_extension": ".py",
   "mimetype": "text/x-python",
   "name": "python",
   "nbconvert_exporter": "python",
   "pygments_lexer": "ipython3",
   "version": "3.7.4"
  }
 },
 "nbformat": 4,
 "nbformat_minor": 2
}
