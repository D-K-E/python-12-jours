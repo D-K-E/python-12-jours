{
 "cells": [
  {
   "cell_type": "markdown",
   "metadata": {},
   "source": [
    "## Modules en Python\n",
    "\n",
    "Par module, on comprend un ensemble des objets ou des fonctions avec une structure interne. \n",
    "\n",
    "Souvent on cache cette structure interne pour que les utilisateurs puissent accèder certains fonctionalités plus facilement. \n",
    "\n",
    "Ils sont le plus souvent des morceaux destinés aux autres développeurs.\n",
    "Ils sont avant tout un outil organisationnel.\n",
    "\n",
    "Il y a trois scénarios possibles pour l'usage des modules:\n",
    "\n",
    "- Diviser notre programme aux différentes parties.\n",
    "- Utiliser le code d'un tiers\n",
    "- Les deux en même temps.\n",
    "\n",
    "A part de leurs usages les modules sont classés en fonction de leurs origines aussi:\n",
    "\n",
    "- Modules standardes\n",
    "- Modules personnelles\n",
    "- Modules des tiers\n",
    "\n",
    "Voici comment on importe les modules."
   ]
  },
  {
   "cell_type": "code",
   "execution_count": 1,
   "metadata": {},
   "outputs": [],
   "source": [
    "import os  # importation générale du module.\n",
    "\n",
    "from math import sin, cos  # à partir du module math, on importe la fonction\n",
    "# sin et la fonction cos.\n",
    "\n",
    "import datetime as dt  # on peut importer avec une appellation différente."
   ]
  },
  {
   "cell_type": "code",
   "execution_count": 5,
   "metadata": {},
   "outputs": [
    {
     "name": "stdout",
     "output_type": "stream",
     "text": [
      "voici le dossier:  .\n",
      "voici sinus de 90 0.8939966636005579\n",
      "voici datetime 2019-11-19 11:44:11.592877\n"
     ]
    }
   ],
   "source": [
    "# voici comment on utilise les modules importés\n",
    "print(\"voici le dossier: \", os.curdir)\n",
    "print(\"voici sinus de 90\", sin(90))\n",
    "print(\"voici datetime\", dt.datetime.today())"
   ]
  },
  {
   "cell_type": "markdown",
   "metadata": {},
   "source": [
    "### Modules Standardes\n",
    "\n",
    "Les modules standardes viennent avec l'installation de Python. \n",
    "On peut les importer facilement avec le mot clé `import`.\n",
    "\n",
    "Voici quelques modules standardes:"
   ]
  },
  {
   "cell_type": "code",
   "execution_count": 6,
   "metadata": {},
   "outputs": [],
   "source": [
    "import os  # pour gérer les chemins et les autres fonctionalités \n",
    "# de système.\n",
    "import typing  # pour faire des annotations de typages plus avancées\n",
    "import tkinter as tk"
   ]
  },
  {
   "cell_type": "markdown",
   "metadata": {},
   "source": [
    "Voici le [lien](https://docs.python.org/3.7/library/) vers les modules standardes."
   ]
  },
  {
   "cell_type": "markdown",
   "metadata": {},
   "source": [
    "## Modules Tiers\n",
    "\n",
    "Les modules tiers sont ceux qui ont été développé par les autres. On peut les installer à travers un gestionnaire de paquet comme `conda` ou `pip`.\n",
    "\n",
    "Une fois qu'on les a installé, on les importe comme les modules standardes."
   ]
  },
  {
   "cell_type": "code",
   "execution_count": 2,
   "metadata": {},
   "outputs": [],
   "source": [
    "# Un paquet qui n'est pas inclut dans le librarie standard\n",
    "\n",
    "# On l'importe comme s'il est standard une fois qu'il est installé\n",
    "from PIL import Image, ImageQt"
   ]
  },
  {
   "cell_type": "markdown",
   "metadata": {},
   "source": [
    "## Modules Personnelles\n",
    "\n",
    "Python traite les dossiers qui contiennent un `__init__.py` comme un module.\n",
    "\n",
    "Par exemple:\n",
    "\n",
    "- A/\n",
    "  - `script1.py`\n",
    "- B/\n",
    "  - `__init__.py`\n",
    "  - `script2.py`\n",
    "- main.py\n",
    "\n",
    "Dans cet exemple le dossier `B` serait traité comme un module contrairement au `A`. Si on essaie d'importer une fonction à partir de `script1.py`, l'interpréteur peut générer une erreur de `ModuleNotFoundError`. "
   ]
  },
  {
   "cell_type": "markdown",
   "metadata": {},
   "source": [
    "### setup.py\n",
    "\n",
    "Dès fois on se trouve avec le scénario suivant:\n",
    "\n",
    "- dossierDepot/\n",
    "\n",
    "  - pseudoprojet/\n",
    "    - module01/\n",
    "      - `__init__.py`\n",
    "      - `script01.py`\n",
    "    - module02/\n",
    "      - `__init__.py`\n",
    "      - `script02.py`\n",
    "    \n",
    "  - `proj.py`\n",
    "  - `setup.py`\n",
    "  \n",
    " On veut par exemple importer une fonction, ou un objet qu'on a définit dans `script01.py` au `script02.py`.\n",
    " On peut faire des importations relatives, mais cela risque d'être cassé très facilement. \n",
    " La meilleure solution c'est d'utiliser un `setup.py` qui fixe la structure de votre projet en le faisant un paquet que vous pouvez importer comme un module tier.\n",
    " \n",
    " Un exemple d'un `setup.py` est le suivant:"
   ]
  },
  {
   "cell_type": "code",
   "execution_count": null,
   "metadata": {},
   "outputs": [],
   "source": [
    "import os\n",
    "import setuptools\n",
    "\n",
    "\n",
    "# currentdir = os.getcwd()\n",
    "\n",
    "with open(\"README.rst\", \"r\", encoding=\"utf-8\") as f:\n",
    "    long_desc = f.read()\n",
    "\n",
    "with open(\"LICENSE\", \"r\", encoding=\"utf-8\") as f:\n",
    "    license_str = f.read()\n",
    "\n",
    "setuptools.setup(\n",
    "    name=\"ptmviewer\",\n",
    "    version=\"0.1\",\n",
    "    author='Kaan Eraslan',\n",
    "    python_requires='>=3.5.0',\n",
    "    author_email=\"kaaneraslan@gmail.com\",\n",
    "    description=\"Polynomial Textual Map Viewer\",\n",
    "    long_description=long_desc,\n",
    "    long_description_content_type=\"text/markdown\",\n",
    "    license=license_str,\n",
    "    url=\"https://github.com/D-K-E/ptm-viewer/\",\n",
    "    packages=setuptools.find_packages(\n",
    "        exclude=[\"tests\", \"*.tests\", \"*.tests.*\", \"tests.*\",\n",
    "                 \"docs\", \".gitignore\", \"README.md\"]\n",
    "    ),\n",
    "    test_suite=\"tests\",\n",
    "    install_requires=[\n",
    "        \"numpy\",\n",
    "        \"pillow\",\n",
    "        #\"PySide2\"\n",
    "    ],\n",
    "    classifiers=[\n",
    "        \"Programming Language :: Python :: 3\",\n",
    "        \"License :: OSI Approved :: GPL License\",\n",
    "        \"Operating System :: OS Independent\",\n",
    "    ],\n",
    ")"
   ]
  },
  {
   "cell_type": "markdown",
   "metadata": {},
   "source": [
    "Une fois qu'on a cela dans notre projet. On peut importer les fonctions qui sont dans des sous modules en se reférant au lieu de `setup.py`. \n",
    "\n",
    "Pour le pseudo projet qu'on a donné comme exemple, on peut importer une fonction de `script01.py` à `script02.py` en écrivant le suivant dans le `script02.py`:\n",
    "\n",
    "`from pseudoprojet.module01.script01 import mafonction`\n"
   ]
  },
  {
   "cell_type": "code",
   "execution_count": null,
   "metadata": {},
   "outputs": [],
   "source": []
  }
 ],
 "metadata": {
  "kernelspec": {
   "display_name": "Python 3",
   "language": "python",
   "name": "python3"
  },
  "language_info": {
   "codemirror_mode": {
    "name": "ipython",
    "version": 3
   },
   "file_extension": ".py",
   "mimetype": "text/x-python",
   "name": "python",
   "nbconvert_exporter": "python",
   "pygments_lexer": "ipython3",
   "version": "3.7.4"
  }
 },
 "nbformat": 4,
 "nbformat_minor": 2
}
