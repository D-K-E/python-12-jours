{
 "cells": [
  {
   "cell_type": "markdown",
   "metadata": {},
   "source": [
    "## IO de base en Python\n",
    "\n",
    "Les opérations assemblées sous le nom d'IO, input - output, permettent aux langues de communiquer avec le monde extérieur, comme des dossiers et des fichiers dans notre ordinateur, ainsi que les données en ligne. \n",
    "\n",
    "Comme d'habitude, on va continuer à analyser une application pour savoir comment certains opérations d'IO de base s'intègrent à sa demarche.\n",
    "On souligne les parties concernantes de l'application avec \"#\" dans le code source de l'application `corpus_statistics.py`.\n",
    "On les inlcu ici en fonction de sa contribution à l'état de connaissance générale d'IO de base en Python. \n",
    "On attend que les lecteurs s'enrichissent ses connaissances avec les exercices qu'on a inclus. \n",
    "On vous invite aussi de jeter un coup d'oeil au page concernant du [manuel](https://docs.python.org/3.7/library/io.html)\n",
    "\n",
    "Voici notre premier exemple:"
   ]
  },
  {
   "cell_type": "code",
   "execution_count": null,
   "metadata": {},
   "outputs": [],
   "source": [
    "def read_text(chemin: str, start_line=2):\n",
    "    \"\"\"\n",
    "    Lire le texte par qui se trouve au chemin en commencant par la ligne \n",
    "    indiqué\n",
    "    \"\"\"\n",
    "    with open(chemin, \"r\", encoding=\"utf-8\", newline=\"\\n\") as fd:\n",
    "        txt = fd.readlines()\n",
    "        txt = txt[start_line:]\n",
    "        txt = [t.strip() for t in txt]\n",
    "    return txt"
   ]
  },
  {
   "cell_type": "markdown",
   "metadata": {},
   "source": [
    "Le résumé de fonction est le suivant:\n",
    "\n",
    "J'ouvre mon fichier au bout de chemin en mode de lecture.\n",
    "J'assume que le fichier est encodé `utf-8`. \n",
    "Je lis le contenu ligne par ligne.\n",
    "J'enlève les lignes qui sont avant le `start_line`.\n",
    "J'efface les caractères spéciaux dans les lignes.\n",
    "Je retourne la liste qui contient les lignes du contenu de fichier."
   ]
  },
  {
   "cell_type": "markdown",
   "metadata": {},
   "source": [
    "Voici l'analyse de la fonction ligne par ligne:\n",
    "\n",
    "- 1. Je declare une fonction dont le nom est `read_text` et les arguments sont `chemin` et `start_line`. `chemin` est une chaine des caractères. `start_line` est un nombre entier.\n",
    "\n",
    "- 2. Je declare le début de `doc string`, qui va contenir le sommaire de but de ma fonction.\n",
    "\n",
    "- 3 - 4. J'écris un sommaire de but de la fonction. J'opte pour que mon sommaire ne dépasse pas un phrase, s'il dépasse un phrase, il faut peut-être mieux de diviser ma fonction en deux.\n",
    "\n",
    "- 5. Je declare la fin de `doc string`, qui contient mon sommaire.\n",
    "\n",
    "- 6. Je fais plusieurs choses en même temps:\n",
    "    \n",
    "    - D'abord, j'ouvre le chemin en mode lecture. \n",
    "    \n",
    "    Ces deux viennent de `open(chemin, \"r\")`. Le `r` indique le mode `read`, donc lecture, cela veut dire que je ne peux pas modifier les données de fichier qui se trouve au bout de chemin. Je peux voir/lire son contenu, mais pas le modifier.\n",
    "     \n",
    "    - Je declare que l'encodage des caractères dans le fichier est `utf-8`. \n",
    "       \n",
    "    Cela vient de `encoding=\"utf-8\"`. \n",
    "    On peut dire que cela donne une idée à la machine pour la représentation employée pour caractère. \n",
    "    Par exemple, le caractère `a` est représenté avec le code `&#97;` en html, `U+0061` en utf-8 `97` en ascii, etc etc. \n",
    "    On utilise maintenant pour la quasi totalité des cas `utf-8` pour encoder des textes.\n",
    "    \n",
    "    - Je declare le caractère de saut de ligne de mon fichier.\n",
    "    \n",
    "    Cela vient de `newline=\"\\n\"`. \n",
    "    L'idée est que la machine ne sait pas la mise en page, parce que le concept de ligne n'a aucune correspondance dans un monde binaire. \n",
    "    Par contre, on peut traduire ce concept facilement à une représentation reproductible pour une machine. \n",
    "    On peut définir une ligne comme ce qui commence par le caractère `\\n`, donc à chaque fois qu'on trouve le caractère `\\n` lors de lecture de fichier on peut dire qu'on est dans une nouvelle ligne.\n",
    "    \n",
    "    - Je nomme le résultat de mon opération d'ouverture avec des parametres indiqués comme `fd`.\n",
    "    \n",
    "    Il concerne la partie `... as fd`. \n",
    "    Le nom `fd` est un choix arbitraire. \n",
    "    Il aurait pu être `monFichier` etc.\n",
    "    On aurait pu faire aussi `fd = open(...)` mais on verra l'avantage d'utiliser notre manière dans le prochain étape.\n",
    "    \n",
    "    - Je déclare une portée pour le `fd`.\n",
    "    \n",
    "    Cela vient de `with`. \n",
    "    Le `with` nous permet d'utiliser des objets qui ont un procedure d'entrée et de sortie plus facilement.\n",
    "    Par exemple, dans notre cas on ouvre un fichier pour lire son contenu.\n",
    "    Une fois qu'on a lu le contenu, on n'a pas besoin de garder le fichier ouvert, donc il faut le fermer.\n",
    "    Le problème est le suivant. \n",
    "    Qu'est-ce qui se passe si le fichier n'est pas accèssible ou si on n'a voulu modifier le contenu tant dis qu'on n'a pas le droit ?\n",
    "    Le problème est que l'erreur qui serait généré est indépendant de consommation de ressource de l'objet qui gère l'accèss au fichier.\n",
    "    C'est donc important de liberer les ressources utilisées quelque soit le cas d'usage lié au contenu. Le `with` appelle les procédures d'entrée et sortie automatiquement lors d'entrée et sortie à son bloc.\n",
    "    \n",
    "- 7. Je lis le contenu de fichier, géré par `fd`, ligne par ligne, et affecte la liste resultante au variable `txt`\n",
    "\n",
    "- 8. Je selectionne les membres de la liste `txt` en commençant par l'élément à l'indice `start_line` créant une nouvelle liste. J'affecte la nouvelle liste au variable `txt`.\n",
    "\n",
    "- 9. Je crée une nouvelle liste avec les membres de la liste `txt`. \n",
    "    Lors de création, j'applique la fonction `strip` à chaque élément, qui\n",
    "    enlève des caractères spéciaux.\n",
    "\n",
    "- 10. Je retourne la liste `txt`.  \n",
    "    "
   ]
  },
  {
   "cell_type": "markdown",
   "metadata": {},
   "source": [
    "Voici une autre fonction de l'application `corpus_statistics.py` qui ressemble à celle qui est au dessus:"
   ]
  },
  {
   "cell_type": "code",
   "execution_count": null,
   "metadata": {},
   "outputs": [],
   "source": [
    "with open(filepath, \"r\", encoding=\"utf-8\") as fp:\n",
    "    data = fp.read()  # lecture entier du contenu\n",
    "    lines = fp.readlines()  # lecture par ligne du contenu"
   ]
  },
  {
   "cell_type": "markdown",
   "metadata": {},
   "source": [
    "Le nouvel point qu'on voit ici est `data = fp.read()`. \n",
    "\n",
    "On a expliqué en haut que `readlines` nous permet de faire un lecture par ligne de contenu, le `read` nous permet de lire le contenu entière. \n",
    "\n",
    "Le résultat de `read` est logiquement une chaine de caractère. "
   ]
  },
  {
   "cell_type": "markdown",
   "metadata": {},
   "source": [
    "Encore une autre fonction:"
   ]
  },
  {
   "cell_type": "code",
   "execution_count": null,
   "metadata": {},
   "outputs": [],
   "source": [
    "tf_idf_terms = self.change_doc_index_to_path()\n",
    "with open(filepath, \"w\", encoding=\"utf-8\", newline=\"\\n\") as fd:\n",
    "    json.dump(tf_idf_terms, fd, ensure_ascii=False, indent=4)"
   ]
  },
  {
   "cell_type": "markdown",
   "metadata": {},
   "source": [
    "Le `json` est un module, sa fonction `dump` nous permet d'enregistrer un objet de python qui est compatible avec son standard. \n",
    "Pour savoir plus d'information veuillez consulter au page du [manuel](https://docs.python.org/3.7/library/json.html).\n",
    "\n",
    "La partie intéressante pour nous est le changement de mode de `fd`, signalé par le paramètre `w`.\n",
    "Le mode `w` nous permet d'ouvrir le fichier pour écriture. \n",
    "\n",
    "Il efface les données existantes si le fichier existe, et s'il n'existe pas, il crée le fichier, si le chemin est valide, c'est à dire le dossier qui va contenir le fichier existe et qu'on a le droit de le modifier. "
   ]
  },
  {
   "cell_type": "code",
   "execution_count": null,
   "metadata": {},
   "outputs": [],
   "source": []
  }
 ],
 "metadata": {
  "celltoolbar": "Éditer les Méta-Données",
  "kernelspec": {
   "display_name": "Python 3",
   "language": "python",
   "name": "python3"
  },
  "language_info": {
   "codemirror_mode": {
    "name": "ipython",
    "version": 3
   },
   "file_extension": ".py",
   "mimetype": "text/x-python",
   "name": "python",
   "nbconvert_exporter": "python",
   "pygments_lexer": "ipython3",
   "version": "3.7.4"
  }
 },
 "nbformat": 4,
 "nbformat_minor": 2
}
