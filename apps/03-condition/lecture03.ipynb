{
 "cells": [
  {
   "cell_type": "markdown",
   "metadata": {},
   "source": [
    "## Conditions en Python\n",
    "\n",
    "Les conditions nous permettent de formaliser la notion de choix. \n",
    "Cette formalisation devient concret par la détermination de la direction d'exécution de programme en fonction des tests. \n",
    "Ces tests prennent la forme des expréssions booléennes.\n",
    "\n",
    "Une manière pratique de retenir le procédure d'évaluation d'un test, c'est de le formuler comme le suivant: *Est-ce que mon expréssion X est vrai ?* Si oui le programme prend un chemin d'exécution, si non il prend un autre chemin.\n",
    "\n",
    "De façon générale, les éléments sytanxiques avec une expréssion booléenne qui nous permettent de contrôler le déroulement d'un programme s'appellent les *instructions de contrôle du flux* (control flow statements). \n",
    "En python, l'élément principale pour diriger le contrôle du flux est le `if`, le `else` lui accompagne si la portée sémantique de l'expréssion nécessite une branche explicite d'exécution, c'est à dire il est nécessaire par exemple si on a une direction en partie independante de l'instruction de contrôle du flux.\n",
    "On verra les exemples.\n",
    "\n",
    "Voici notre prémier exemple avec le if:"
   ]
  },
  {
   "cell_type": "code",
   "execution_count": 2,
   "metadata": {},
   "outputs": [
    {
     "name": "stdout",
     "output_type": "stream",
     "text": [
      "Done\n"
     ]
    }
   ],
   "source": [
    "vari = 10\n",
    "expr1 = vari < 10\n",
    "if expr1:\n",
    "    print(\"La valeur de mon variable est moins de dix\")\n",
    "print(\"Done\")"
   ]
  },
  {
   "cell_type": "markdown",
   "metadata": {},
   "source": [
    "Voici l'analyse détaillé de chaque ligne:\n",
    "\n",
    "- 1. J'affecte la valeur 10 à mon variable `vari`\n",
    "\n",
    "- 2. J'affecte la valeur de l'expréssion `vari est moins à 10`\n",
    "    Notez bien que cette expréssion sera évalué en tant qu'un expréssion\n",
    "    booléen, parce que la valeur de `vari` est soit `moins à 10`, donc ma\n",
    "    déclaration sur la valeur de `vari` serait `True`, vrai, soit elle n'est \n",
    "    pas `moins à 10` donc ma déclaration sur la valeur de `vari` est \n",
    "    `False`, faux. Il n'y a simplement pas d'autre option. \n",
    "    \n",
    "    On peut imaginer le fonctionnement de l'opérateur `<` comme l'opérateur \n",
    "    `+`: \n",
    "    \n",
    "    `1 + 1 = 2`, `10 < 10 = faux`, par contre `8 < 10 = vrai` \n",
    "\n",
    "- 3. `if expr1` simplement dit à l'interpréteur d'exécuter le bloc en bas\n",
    "    si la valeur de mon variable est `True`. Si ce n'est pas le cas, \n",
    "    l'interpréteur va simplement sauter le bloc lors d'exécution.\n",
    "    \n",
    "- 4. Comme la valeur de notre variable `vari` est `10` ma déclaration \n",
    "    qui disait qu'il a inférieur à `10` est nécessairement faux, donc on \n",
    "    saute la ligne 4.\n",
    "    \n",
    "- 5. Comme la ligne 5. ne situe pas à l'intérieur du bloc. Il est exécuté, \n",
    "    et le `Done` est affiché dans le terminal."
   ]
  },
  {
   "cell_type": "markdown",
   "metadata": {},
   "source": [
    "Notez bien que le chemin de déroulement de programme est changé en fonction de `if`, mais comme la portée sémantique du variable `vari` ne nous oblige pas de spécifier une autre bloc, c'est à dire, on ne veut rien faire avec le `vari` si il n'est pas inférieur à `10`, on continue à exécuter les lignes d'après.\n",
    "\n",
    "Voyons un autre cas:"
   ]
  },
  {
   "cell_type": "code",
   "execution_count": 2,
   "metadata": {},
   "outputs": [
    {
     "name": "stdout",
     "output_type": "stream",
     "text": [
      "mon variable est supérieur à 10 ou égale à 10\n",
      "Done\n"
     ]
    }
   ],
   "source": [
    "vari = 10\n",
    "expr1 = vari < 10\n",
    "expr2 = vari > 10 or vari == 10\n",
    "if expr1:\n",
    "    print(\"mon variable est inférieur à 10\")\n",
    "if expr2:\n",
    "    print(\"mon variable est supérieur à 10 ou égale à 10\")\n",
    "print(\"Done\")"
   ]
  },
  {
   "cell_type": "markdown",
   "metadata": {},
   "source": [
    "La seule différence avec la cellule d'avant est que cette fois ci on a un variable qui la valeur `True`, donc l'interpréteur execute son bloc puis affiche le `Done` comme auparavant.\n",
    "\n",
    "Par contre, on a un problème ici. Au niveau visuel, on ne voit pas que le déroulement du programme se base sur l'évaluation des expressions qui sont sémantiquement dépendantes aux uns aux autres.\n",
    "\n",
    "Récrivons les:"
   ]
  },
  {
   "cell_type": "code",
   "execution_count": 4,
   "metadata": {},
   "outputs": [
    {
     "name": "stdout",
     "output_type": "stream",
     "text": [
      "mon variable est supérieur à 10 ou égale à 10\n",
      "Done\n"
     ]
    }
   ],
   "source": [
    "vari = 10\n",
    "expr1 = vari < 10\n",
    "if expr1:\n",
    "    print(\"mon variable est inférieur à 10\")\n",
    "if not expr1:\n",
    "    print(\"mon variable est supérieur à 10 ou égale à 10\")\n",
    "print(\"Done\")"
   ]
  },
  {
   "cell_type": "markdown",
   "metadata": {},
   "source": [
    "Là on voit mieux les relations entre les conditions qu'on introduit. Python nous donne un raccourci pour cette expression, le `else`. Voici les mêmes lignes avec le `else`"
   ]
  },
  {
   "cell_type": "code",
   "execution_count": 5,
   "metadata": {},
   "outputs": [
    {
     "name": "stdout",
     "output_type": "stream",
     "text": [
      "mon variable est supérieur à 10 ou égale à 10\n",
      "Done\n"
     ]
    }
   ],
   "source": [
    "vari = 10\n",
    "expr1 = vari < 10\n",
    "if expr1:\n",
    "    print(\"mon variable est inférieur à 10\")\n",
    "else:\n",
    "    print(\"mon variable est supérieur à 10 ou égale à 10\")\n",
    "print(\"Done\")"
   ]
  },
  {
   "cell_type": "markdown",
   "metadata": {},
   "source": [
    "Cela est joli, mais disons que je veux diversifier un peu les actions j'aimerais exécuter en fonction de la valeur de `vari`. \n",
    "Par exemple, j'aimerais afficher s'il est un nombre pair/impaire, s'il est égal à 10, etc.\n",
    "Dans ce cas là, j'ai des conditions qui ne sont pas des oppositions logiques des uns aux autres, mais qui restent quand même dépendant à la valeur de mon variable. \n",
    "\n",
    "Comment peut-on exprimer cette idée en Python ?\n",
    "On vous montre deux manières très similaires de le faire, mais on verra que la différence est assez important pour ne pas se tromper.\n",
    "\n",
    "Voici la première manière:"
   ]
  },
  {
   "cell_type": "code",
   "execution_count": 6,
   "metadata": {},
   "outputs": [
    {
     "name": "stdout",
     "output_type": "stream",
     "text": [
      "égale à 10\n",
      "vari est un nombre pair\n",
      "Done\n"
     ]
    }
   ],
   "source": [
    "vari = 10\n",
    "expr1 = vari < 10\n",
    "expr2 = vari == 10\n",
    "expr3 = vari > 10 # la valeur de vari est considéré supérieur\n",
    "expr4 = (vari % 2) == 0 # la valeur de vari est considéré pair\n",
    "if expr1:\n",
    "    print(\"inférieur à 10\")\n",
    "if expr2:\n",
    "    print('égale à 10')\n",
    "if expr3:\n",
    "    print(\"supérieur à 10\")\n",
    "if expr4:\n",
    "    print(\"vari est un nombre pair\")\n",
    "    \n",
    "print(\"Done\")"
   ]
  },
  {
   "cell_type": "markdown",
   "metadata": {},
   "source": [
    "Voici la deuxième manière de le faire:"
   ]
  },
  {
   "cell_type": "code",
   "execution_count": 7,
   "metadata": {},
   "outputs": [
    {
     "name": "stdout",
     "output_type": "stream",
     "text": [
      "égale à 10\n",
      "Done\n"
     ]
    }
   ],
   "source": [
    "vari = 10\n",
    "expr1 = vari < 10\n",
    "expr2 = vari == 10\n",
    "expr3 = vari > 10 # la valeur de vari est considéré supérieur\n",
    "expr4 = (vari % 2) == 0 # la valeur de vari est considéré pair\n",
    "if expr1:\n",
    "    print(\"inférieur à 10\")\n",
    "elif expr2:\n",
    "    print('égale à 10')\n",
    "elif expr3:\n",
    "    print(\"supérieur à 10\")\n",
    "elif expr4:\n",
    "    print(\"vari est un nombre pair\")\n",
    "    \n",
    "print(\"Done\")"
   ]
  },
  {
   "cell_type": "markdown",
   "metadata": {},
   "source": [
    "Pour vous expliciter la différence, on va écrire les instructions des deux cellules à partir de la ligne 6:\n",
    "\n",
    "Voici celle de premier:\n",
    "\n",
    "- 6. Si expr1 est vrai, exécutez le bloc en bas.\n",
    "- 8. Si expr2 est vrai, exécutez le bloc en bas.\n",
    "- 10. Si expr3 est vrai, exécutez le bloc en bas.\n",
    "- 12. Si expr4 est vrai, exécutez le bloc en bas.\n",
    "\n",
    "Voici celle de deuxième:\n",
    "\n",
    "- 6. Si expr1 est vrai, exécutez le bloc en bas.\n",
    "- 8. Sinon, si expr2 est vrai, exécutez le bloc en bas.\n",
    "- 10. Sinon, si expr3 est vrai, exécutez le bloc en bas.\n",
    "- 12. Sinon, si expr4 est vrai, exécutez le bloc en bas.\n",
    "\n",
    "Le `sinon` veut dire que l'expression serait exécuter uniquement la condition d'avant est faux, si l'expression d'avant est vrai, touts les blocs en bas seraient sauté.\n",
    "\n",
    "Une autre manière d'utiliser les conditions est le suivant:"
   ]
  },
  {
   "cell_type": "code",
   "execution_count": 5,
   "metadata": {},
   "outputs": [],
   "source": [
    "def imprimer_moins20(i: int):\n",
    "    if i < 20:\n",
    "        return print(\"Maintenant le nombre est moins de 20: \", str(i))\n",
    "    print(\"La valeur actuel est: \", str(i))\n",
    "    i = i - 2\n",
    "    print(\"La valeur prochain est: \", str(i))\n",
    "    imprimer_moins20(i)"
   ]
  },
  {
   "cell_type": "markdown",
   "metadata": {},
   "source": [
    "Testons notre fonction avant d'expliquer ce qui se passe:"
   ]
  },
  {
   "cell_type": "code",
   "execution_count": 6,
   "metadata": {},
   "outputs": [
    {
     "name": "stdout",
     "output_type": "stream",
     "text": [
      "La valeur actuel est:  31\n",
      "La valeur prochain est:  29\n",
      "La valeur actuel est:  29\n",
      "La valeur prochain est:  27\n",
      "La valeur actuel est:  27\n",
      "La valeur prochain est:  25\n",
      "La valeur actuel est:  25\n",
      "La valeur prochain est:  23\n",
      "La valeur actuel est:  23\n",
      "La valeur prochain est:  21\n",
      "La valeur actuel est:  21\n",
      "La valeur prochain est:  19\n",
      "Maintenant le nombre est moins de 20:  19\n"
     ]
    }
   ],
   "source": [
    "imprimer_moins20(31)"
   ]
  },
  {
   "cell_type": "markdown",
   "metadata": {},
   "source": [
    "La fonction `imprimer_moins` appartient à une classe des fonctions qu'on appelle des fonctions recursives. \n",
    "\n",
    "On peut décomposer notre fonction en deux parties:\n",
    "\n",
    "- La condition de terminaison: lignes 2 - 3\n",
    "- Les instructions qui pousse l'état de programme vers la condition de \n",
    "  terminaison: 4 - 6\n",
    "\n",
    "Les fonctions recursives nous permet d'implementer les boucles par des conditions. Voici un exemple:"
   ]
  },
  {
   "cell_type": "code",
   "execution_count": 14,
   "metadata": {},
   "outputs": [],
   "source": [
    "def myloop(oldlst: list, newlst: list, myfnc):\n",
    "    \"un boucle simple\"\n",
    "    if not oldlst:\n",
    "        return newlst\n",
    "    myel = oldlst.pop(0)\n",
    "    transformed_element = myfnc(myel)\n",
    "    newlst.append(transformed_element)\n",
    "    #### info sur la liste ####\n",
    "    print(\"Element transformé: \", str(transformed_element))\n",
    "    print(\"Element actuel: \", str(myel))\n",
    "    print(\"liste d'avant: \", str(oldlst))\n",
    "    print(\"l'état de liste courant: \", str(newlst))\n",
    "    \n",
    "    myloop(oldlst, newlst, myfnc)"
   ]
  },
  {
   "cell_type": "code",
   "execution_count": 15,
   "metadata": {},
   "outputs": [
    {
     "name": "stdout",
     "output_type": "stream",
     "text": [
      "Element transformé:  1\n",
      "Element actuel:  1\n",
      "liste d'avant:  [2, 3, 4, 5]\n",
      "l'état de liste courant:  [1]\n",
      "Element transformé:  4\n",
      "Element actuel:  2\n",
      "liste d'avant:  [3, 4, 5]\n",
      "l'état de liste courant:  [1, 4]\n",
      "Element transformé:  9\n",
      "Element actuel:  3\n",
      "liste d'avant:  [4, 5]\n",
      "l'état de liste courant:  [1, 4, 9]\n",
      "Element transformé:  16\n",
      "Element actuel:  4\n",
      "liste d'avant:  [5]\n",
      "l'état de liste courant:  [1, 4, 9, 16]\n",
      "Element transformé:  25\n",
      "Element actuel:  5\n",
      "liste d'avant:  []\n",
      "l'état de liste courant:  [1, 4, 9, 16, 25]\n"
     ]
    }
   ],
   "source": [
    "def myfn(x: int): return x ** 2\n",
    "myloop(oldlst=[1, 2, 3, 4, 5], newlst=[], myfnc=myfn)"
   ]
  },
  {
   "cell_type": "markdown",
   "metadata": {},
   "source": [
    "En fait, c'est structure est tellement courant dans le paradigme fonctionel de programmation que Python nous offre un raccourci pour le faire:"
   ]
  },
  {
   "cell_type": "code",
   "execution_count": 17,
   "metadata": {},
   "outputs": [
    {
     "name": "stdout",
     "output_type": "stream",
     "text": [
      "[1, 4, 9, 16, 25]\n"
     ]
    }
   ],
   "source": [
    "def myfn(x: int): return x ** 2\n",
    "foo = map(myfn, [1, 2, 3, 4, 5])\n",
    "print(list(foo))"
   ]
  },
  {
   "cell_type": "markdown",
   "metadata": {},
   "source": [
    "La décomposition de la fonction `myloop` contient les mêmes parties:\n",
    "\n",
    "- 3 - 4: La condition finale\n",
    "- 5 - 7: Les instructions qui poussent vers la condition finale."
   ]
  },
  {
   "cell_type": "markdown",
   "metadata": {},
   "source": [
    "Même si le syntax est un peu différent, il y a une autre structure qui utilise la même logique que les fonctions recursives, c'est le bloc de `while`. \n",
    "\n",
    "Voici la fonction `myloop` avec le `while`:"
   ]
  },
  {
   "cell_type": "code",
   "execution_count": 19,
   "metadata": {},
   "outputs": [
    {
     "name": "stdout",
     "output_type": "stream",
     "text": [
      "[1, 4, 9, 16, 25]\n"
     ]
    }
   ],
   "source": [
    "def myloop_while(lst: list, myfnc):\n",
    "    newlst = []\n",
    "    while lst:\n",
    "        el = lst.pop(0)\n",
    "        transformed = myfnc(el)\n",
    "        newlst.append(transformed)\n",
    "    return newlst\n",
    "\n",
    "mlst = myloop_while([1, 2, 3, 4, 5], myfnc=myfn)\n",
    "print(mlst)"
   ]
  },
  {
   "cell_type": "markdown",
   "metadata": {},
   "source": [
    "La nouvelle fonction se décompose comme le suivant:\n",
    "\n",
    "- 3. La condition qui permet de répeter le bloc en bas.\n",
    "- 4. L'instruction qui pousse l'état de programme vers la condition finale.\n",
    "\n",
    "Le reste est là pour retourner le résultat de la fonction `myfnc`."
   ]
  },
  {
   "cell_type": "code",
   "execution_count": null,
   "metadata": {},
   "outputs": [],
   "source": []
  }
 ],
 "metadata": {
  "kernelspec": {
   "display_name": "Python 3",
   "language": "python",
   "name": "python3"
  },
  "language_info": {
   "codemirror_mode": {
    "name": "ipython",
    "version": 3
   },
   "file_extension": ".py",
   "mimetype": "text/x-python",
   "name": "python",
   "nbconvert_exporter": "python",
   "pygments_lexer": "ipython3",
   "version": "3.7.4"
  }
 },
 "nbformat": 4,
 "nbformat_minor": 2
}
