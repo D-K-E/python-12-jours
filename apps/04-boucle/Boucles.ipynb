{
 "cells": [
  {
   "cell_type": "markdown",
   "metadata": {},
   "source": [
    "## Boucles en Python\n",
    "\n",
    "Le concept de boucle va avec un autre concept clé, c'est la `collection`. Une collection a ce qui possède des membres. \n",
    "Un boucle nous permet de traiter chacun des membres d'une collection en utilisant un protocole définie pour obtenir le membre suivant après le traitement d'un membre.\n",
    "Notez bien qu'on n'a rien proclamé sur la nature de la collection. \n",
    "Par exemple, on ne sait pas si elle est sequentielle, comme une liste, ou s'il est associative, comme une dictionnaire.\n",
    "\n",
    "Un boucle simple en Python est exprimé comme le suivant:"
   ]
  },
  {
   "cell_type": "code",
   "execution_count": 5,
   "metadata": {},
   "outputs": [
    {
     "name": "stdout",
     "output_type": "stream",
     "text": [
      "membre de liste:  1   Double de liste:  2\n",
      "membre de liste:  2   Double de liste:  4\n",
      "membre de liste:  2   Double de liste:  4\n",
      "membre de liste:  3   Double de liste:  6\n",
      "membre de liste:  4   Double de liste:  8\n",
      "membre de liste:  5   Double de liste:  10\n",
      "membre de liste:  75   Double de liste:  150\n"
     ]
    }
   ],
   "source": [
    "for i in [1, 2, 2, 3, 4, 5, 75]:\n",
    "    print(\"membre de liste: \", str(i),\n",
    "          \"  Double de liste: \", str(i * 2))"
   ]
  },
  {
   "cell_type": "markdown",
   "metadata": {},
   "source": [
    "Python nous donne aussi un moyen de récuperer les indices de l'élément en cours de traitement, avec la fonction `enumerate`"
   ]
  },
  {
   "cell_type": "code",
   "execution_count": 8,
   "metadata": {},
   "outputs": [
    {
     "name": "stdout",
     "output_type": "stream",
     "text": [
      "mon indice:  0   element:  5\n",
      "mon indice:  1   element:  6\n",
      "mon indice:  2   element:  5\n",
      "mon indice:  3   element:  5\n",
      "mon indice:  4   element:  5\n",
      "mon indice:  5   element:  5\n",
      "mon indice:  6   element:  6\n",
      "mon indice:  7   element:  9\n"
     ]
    }
   ],
   "source": [
    "mylst = [5,6,5,5,5,5,6,9]\n",
    "for indice, element in enumerate(mylst):\n",
    "    print(\"mon indice: \", str(indice), \"  element: \", str(element))"
   ]
  },
  {
   "cell_type": "markdown",
   "metadata": {},
   "source": [
    "On traite les éléments d'un dictionnaire avec la méthode `items`."
   ]
  },
  {
   "cell_type": "code",
   "execution_count": 9,
   "metadata": {},
   "outputs": [
    {
     "name": "stdout",
     "output_type": "stream",
     "text": [
      "ma clé:  mon   valeur:  clé\n",
      "ma clé:  appartient   valeur:  à\n",
      "ma clé:  une   valeur:  dictionnaire\n"
     ]
    }
   ],
   "source": [
    "mydict = {\"mon\": \"clé\", \"appartient\": \"à\", \"une\": \"dictionnaire\"}\n",
    "for cle, valeur in mydict.items():\n",
    "    print(\"ma clé: \", cle, \"  valeur: \", valeur)"
   ]
  },
  {
   "cell_type": "markdown",
   "metadata": {},
   "source": [
    "On itere sur les valeurs d'une dictionnaire avec `values`, les clés avec `keys`:"
   ]
  },
  {
   "cell_type": "code",
   "execution_count": 10,
   "metadata": {},
   "outputs": [
    {
     "name": "stdout",
     "output_type": "stream",
     "text": [
      "clé:  mon\n",
      "clé:  appartient\n",
      "clé:  une\n",
      "valeur:  clé\n",
      "valeur:  à\n",
      "valeur:  dictionnaire\n"
     ]
    }
   ],
   "source": [
    "for cle in mydict.keys():\n",
    "    print(\"clé: \", cle)\n",
    "    \n",
    "for val in mydict.values():\n",
    "    print(\"valeur: \", val)"
   ]
  },
  {
   "cell_type": "markdown",
   "metadata": {},
   "source": [
    "Dans certains cas, on veut utiliser une autre protocole pour traiter les membres. \n",
    "Au lieu de consommer les membres directement, on veut acceder aux membres progressivement en utilisant une liste des indices. \n",
    "\n",
    "Cela devient particulièrement utile lors qu'on a une affaire avec deux ou plusieurs listes:  "
   ]
  },
  {
   "cell_type": "code",
   "execution_count": 13,
   "metadata": {},
   "outputs": [
    {
     "name": "stdout",
     "output_type": "stream",
     "text": [
      "voici la somme de membre: 0 des trois listes:  111\n",
      "voici la somme de membre: 1 des trois listes:  222\n",
      "voici la somme de membre: 2 des trois listes:  333\n",
      "voici la somme de membre: 3 des trois listes:  444\n"
     ]
    }
   ],
   "source": [
    "lst1 = [1, 2, 3, 4]\n",
    "lst2 = [10, 20, 30, 40]\n",
    "lst3 = [100, 200, 300, 400]\n",
    "\n",
    "for i in range(len(lst1)):\n",
    "    print(\"voici la somme de membre: \" + str(i) + \" des trois listes: \", \n",
    "          str(lst1[i] + lst2[i] + lst3[i]))"
   ]
  },
  {
   "cell_type": "markdown",
   "metadata": {},
   "source": [
    "Notez bien que les boucles sont essentiellement un raccourci pour faciliter le traitement des membres.\n",
    "\n",
    "Pour des opérations simples python nous donne un autre raccourci pour la création des listes:"
   ]
  },
  {
   "cell_type": "code",
   "execution_count": 14,
   "metadata": {},
   "outputs": [
    {
     "name": "stdout",
     "output_type": "stream",
     "text": [
      "trois fois des nombres pairs:  [0, 6, 12, 18, 24, 30]\n"
     ]
    }
   ],
   "source": [
    "mylst = [i * 3 for i in range(12) if i % 2 == 0]\n",
    "print(\"trois fois des nombres pairs: \", str(mylst))"
   ]
  },
  {
   "cell_type": "code",
   "execution_count": 15,
   "metadata": {},
   "outputs": [
    {
     "name": "stdout",
     "output_type": "stream",
     "text": [
      "[0, 2, 4, 6, 8, 10]\n"
     ]
    }
   ],
   "source": [
    "# Voici la même chose sans le raccourci\n",
    "mylst = []\n",
    "for i in range(12):\n",
    "    residu = i % 2\n",
    "    if residu == 0:\n",
    "        mylst.append(i)\n",
    "        \n",
    "print(mylst)"
   ]
  },
  {
   "cell_type": "markdown",
   "metadata": {},
   "source": [
    "Le même raccourci existe pour la création d'une dictionnaire aussi:"
   ]
  },
  {
   "cell_type": "code",
   "execution_count": 19,
   "metadata": {},
   "outputs": [
    {
     "name": "stdout",
     "output_type": "stream",
     "text": [
      "{'cle 0': 'valeur 0', 'cle 2': 'valeur 6', 'cle 4': 'valeur 12', 'cle 6': 'valeur 18', 'cle 8': 'valeur 24', 'cle 10': 'valeur 30'}\n"
     ]
    }
   ],
   "source": [
    "mydict = {\"cle \" + str(i):\"valeur \"+ str(i * 3) for i in range(12) if i%2==0}\n",
    "print(str(mydict))"
   ]
  },
  {
   "cell_type": "code",
   "execution_count": 21,
   "metadata": {},
   "outputs": [
    {
     "name": "stdout",
     "output_type": "stream",
     "text": [
      "{'cle 0': 'valeur 0', 'cle 2': 'valeur 6', 'cle 4': 'valeur 12', 'cle 6': 'valeur 18', 'cle 8': 'valeur 24', 'cle 10': 'valeur 30'}\n"
     ]
    }
   ],
   "source": [
    "# voici la même chose sans raccourci\n",
    "mydict = {}\n",
    "for i in range(12):\n",
    "    residu = i % 2\n",
    "    if residu == 0:\n",
    "        cle = \"cle \" + str(i)\n",
    "        val = \"valeur \" + str(i * 3)\n",
    "        mydict[cle] = val\n",
    "print(mydict)"
   ]
  },
  {
   "cell_type": "markdown",
   "metadata": {},
   "source": [
    "Qu'est-ce qu'on fait pour des objets qu'on a crée nous même? \n",
    "Voici une manière de rendre les objets déclarés par des utilisateurs, une structure itérable: "
   ]
  },
  {
   "cell_type": "code",
   "execution_count": 26,
   "metadata": {},
   "outputs": [],
   "source": [
    "class MonObjetIterable:\n",
    "    def __init__(self):\n",
    "        self.membre1 = \"mon membre 1\"\n",
    "        self.membre2 = \"mon membre 2\"\n",
    "        self.membre3 = \"mon membre 3\"\n",
    "    \n",
    "    def __iter__(self):\n",
    "        return iter((self.membre1, self.membre2, self.membre3))"
   ]
  },
  {
   "cell_type": "code",
   "execution_count": 25,
   "metadata": {},
   "outputs": [
    {
     "name": "stdout",
     "output_type": "stream",
     "text": [
      "mon membre 1\n",
      "mon membre 2\n",
      "mon membre 3\n"
     ]
    }
   ],
   "source": [
    "obj = MonObjetIterable()\n",
    "for membre in obj:\n",
    "    print(membre)"
   ]
  },
  {
   "cell_type": "markdown",
   "metadata": {},
   "source": [
    "La méthode `__iter__` définit pour python comment l'objet va comporter lors d'un appel dans l'expression `for . in .`. Il retourne un itérateur.\n",
    "\n",
    "L'expression `for . in .` demande un itérateur, qui implémente la protocole d'accès aux membres.\n",
    "Dans notre exemple on triche en utilisant l'itérateur de `tuple` pour donner un accès à notre membre."
   ]
  },
  {
   "cell_type": "code",
   "execution_count": null,
   "metadata": {},
   "outputs": [],
   "source": []
  }
 ],
 "metadata": {
  "kernelspec": {
   "display_name": "Python 3",
   "language": "python",
   "name": "python3"
  },
  "language_info": {
   "codemirror_mode": {
    "name": "ipython",
    "version": 3
   },
   "file_extension": ".py",
   "mimetype": "text/x-python",
   "name": "python",
   "nbconvert_exporter": "python",
   "pygments_lexer": "ipython3",
   "version": "3.7.4"
  }
 },
 "nbformat": 4,
 "nbformat_minor": 2
}
